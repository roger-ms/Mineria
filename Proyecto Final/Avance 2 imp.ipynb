{
 "cells": [
  {
   "cell_type": "markdown",
   "metadata": {},
   "source": [
    "# Avance II\n",
    "Equipo: 6 Grupo: 02 , viernes 15 a 18 hrs\n",
    "\n",
    "Integrantes:\n",
    "* 1837533 Castillo Cabello Carolina \n",
    "* 1686204 Muñiz Salazar Rogelio"
   ]
  },
  {
   "cell_type": "markdown",
   "metadata": {},
   "source": [
    "## Dataset de Gastos Médicos Personales\n",
    "Esta base de datos describe los costos de un seguro de Gastos Médicos en Estados Unidos, proporcionando la información de 1338 individuos como su sexo, edad, índice de masa corporal, número de hijos, si son fumadores y los costos de un seguro de gastos médicos. \n",
    "\n",
    "Los datos tienen el siguiente formato:\n",
    "* Edad del asegurado: Entero\n",
    "* Género: Objeto\n",
    "* Índice de masa corporal: Flotante\n",
    "* Número de hijos: Objeto\n",
    "* Indicador si fuma: Objeto\n",
    "* Región donde vive el asegurado: Objeto\n",
    "* Prima del seguro: Flotante\n",
    "\n",
    "Decidimos utilizar esta base de datos, ya que nos parecía interesante poder descubrir la influencia monetaria que tenían cada una de las variables con el costo de una prima de seguros de gastos médicos, así como el intentar predecir el coste de una prima según las variables indicadas."
   ]
  },
  {
   "cell_type": "markdown",
   "metadata": {},
   "source": [
    "##### Preguntas de interés:\n",
    "* ¿Qué variables tienen mayor impacto en la prima de un seguro de Gastos Médicos?\n",
    "* ¿Se puede predecir el coste de una prima de Gastos Médicos en base a las variables consideradas?"
   ]
  },
  {
   "cell_type": "code",
   "execution_count": 45,
   "metadata": {},
   "outputs": [],
   "source": [
    "import seaborn as sns\n",
    "import matplotlib.pyplot as plt\n",
    "%matplotlib inline\n",
    "import pandas as pd\n",
    "import numpy as np"
   ]
  },
  {
   "cell_type": "markdown",
   "metadata": {},
   "source": [
    "#### Desarrollo de las herramientas\n",
    "##### 1.- Limpieza de datos\n",
    "A continuación se muestran los datos sin manipulación."
   ]
  },
  {
   "cell_type": "code",
   "execution_count": 46,
   "metadata": {},
   "outputs": [
    {
     "data": {
      "text/html": [
       "<div>\n",
       "<style scoped>\n",
       "    .dataframe tbody tr th:only-of-type {\n",
       "        vertical-align: middle;\n",
       "    }\n",
       "\n",
       "    .dataframe tbody tr th {\n",
       "        vertical-align: top;\n",
       "    }\n",
       "\n",
       "    .dataframe thead th {\n",
       "        text-align: right;\n",
       "    }\n",
       "</style>\n",
       "<table border=\"1\" class=\"dataframe\">\n",
       "  <thead>\n",
       "    <tr style=\"text-align: right;\">\n",
       "      <th></th>\n",
       "      <th>age</th>\n",
       "      <th>sex</th>\n",
       "      <th>bmi</th>\n",
       "      <th>children</th>\n",
       "      <th>smoker</th>\n",
       "      <th>region</th>\n",
       "      <th>charges</th>\n",
       "    </tr>\n",
       "  </thead>\n",
       "  <tbody>\n",
       "    <tr>\n",
       "      <th>0</th>\n",
       "      <td>19</td>\n",
       "      <td>female</td>\n",
       "      <td>27.900</td>\n",
       "      <td>0</td>\n",
       "      <td>yes</td>\n",
       "      <td>southwest</td>\n",
       "      <td>16884.92400</td>\n",
       "    </tr>\n",
       "    <tr>\n",
       "      <th>1</th>\n",
       "      <td>18</td>\n",
       "      <td>male</td>\n",
       "      <td>33.770</td>\n",
       "      <td>1</td>\n",
       "      <td>no</td>\n",
       "      <td>southeast</td>\n",
       "      <td>1725.55230</td>\n",
       "    </tr>\n",
       "    <tr>\n",
       "      <th>2</th>\n",
       "      <td>28</td>\n",
       "      <td>male</td>\n",
       "      <td>33.000</td>\n",
       "      <td>3</td>\n",
       "      <td>no</td>\n",
       "      <td>southeast</td>\n",
       "      <td>4449.46200</td>\n",
       "    </tr>\n",
       "    <tr>\n",
       "      <th>3</th>\n",
       "      <td>33</td>\n",
       "      <td>male</td>\n",
       "      <td>22.705</td>\n",
       "      <td>0</td>\n",
       "      <td>no</td>\n",
       "      <td>northwest</td>\n",
       "      <td>21984.47061</td>\n",
       "    </tr>\n",
       "    <tr>\n",
       "      <th>4</th>\n",
       "      <td>32</td>\n",
       "      <td>male</td>\n",
       "      <td>28.880</td>\n",
       "      <td>0</td>\n",
       "      <td>no</td>\n",
       "      <td>northwest</td>\n",
       "      <td>3866.85520</td>\n",
       "    </tr>\n",
       "    <tr>\n",
       "      <th>5</th>\n",
       "      <td>31</td>\n",
       "      <td>female</td>\n",
       "      <td>25.740</td>\n",
       "      <td>0</td>\n",
       "      <td>no</td>\n",
       "      <td>southeast</td>\n",
       "      <td>3756.62160</td>\n",
       "    </tr>\n",
       "    <tr>\n",
       "      <th>6</th>\n",
       "      <td>46</td>\n",
       "      <td>female</td>\n",
       "      <td>33.440</td>\n",
       "      <td>1</td>\n",
       "      <td>no</td>\n",
       "      <td>southeast</td>\n",
       "      <td>8240.58960</td>\n",
       "    </tr>\n",
       "    <tr>\n",
       "      <th>7</th>\n",
       "      <td>37</td>\n",
       "      <td>female</td>\n",
       "      <td>27.740</td>\n",
       "      <td>3</td>\n",
       "      <td>no</td>\n",
       "      <td>northwest</td>\n",
       "      <td>7281.50560</td>\n",
       "    </tr>\n",
       "    <tr>\n",
       "      <th>8</th>\n",
       "      <td>37</td>\n",
       "      <td>male</td>\n",
       "      <td>29.830</td>\n",
       "      <td>2</td>\n",
       "      <td>no</td>\n",
       "      <td>northeast</td>\n",
       "      <td>6406.41070</td>\n",
       "    </tr>\n",
       "    <tr>\n",
       "      <th>9</th>\n",
       "      <td>60</td>\n",
       "      <td>female</td>\n",
       "      <td>25.840</td>\n",
       "      <td>0</td>\n",
       "      <td>no</td>\n",
       "      <td>northwest</td>\n",
       "      <td>28923.13692</td>\n",
       "    </tr>\n",
       "  </tbody>\n",
       "</table>\n",
       "</div>"
      ],
      "text/plain": [
       "   age     sex     bmi  children smoker     region      charges\n",
       "0   19  female  27.900         0    yes  southwest  16884.92400\n",
       "1   18    male  33.770         1     no  southeast   1725.55230\n",
       "2   28    male  33.000         3     no  southeast   4449.46200\n",
       "3   33    male  22.705         0     no  northwest  21984.47061\n",
       "4   32    male  28.880         0     no  northwest   3866.85520\n",
       "5   31  female  25.740         0     no  southeast   3756.62160\n",
       "6   46  female  33.440         1     no  southeast   8240.58960\n",
       "7   37  female  27.740         3     no  northwest   7281.50560\n",
       "8   37    male  29.830         2     no  northeast   6406.41070\n",
       "9   60  female  25.840         0     no  northwest  28923.13692"
      ]
     },
     "execution_count": 46,
     "metadata": {},
     "output_type": "execute_result"
    }
   ],
   "source": [
    "df = pd.read_csv(\"insurance.csv\",encoding='utf8')\n",
    "df.head(10)"
   ]
  },
  {
   "cell_type": "markdown",
   "metadata": {},
   "source": [
    "Se muestra el tipo de dato de cada variable y se revisan sus espacios en blanco"
   ]
  },
  {
   "cell_type": "code",
   "execution_count": 3,
   "metadata": {},
   "outputs": [
    {
     "data": {
      "text/plain": [
       "age           int64\n",
       "sex          object\n",
       "bmi         float64\n",
       "children      int64\n",
       "smoker       object\n",
       "region       object\n",
       "charges     float64\n",
       "dtype: object"
      ]
     },
     "execution_count": 3,
     "metadata": {},
     "output_type": "execute_result"
    }
   ],
   "source": [
    "df.dtypes #tipo de dato"
   ]
  },
  {
   "cell_type": "code",
   "execution_count": 4,
   "metadata": {},
   "outputs": [
    {
     "data": {
      "text/plain": [
       "age         0\n",
       "sex         0\n",
       "bmi         0\n",
       "children    0\n",
       "smoker      0\n",
       "region      0\n",
       "charges     0\n",
       "dtype: int64"
      ]
     },
     "execution_count": 4,
     "metadata": {},
     "output_type": "execute_result"
    }
   ],
   "source": [
    "df.isnull().sum()"
   ]
  },
  {
   "cell_type": "markdown",
   "metadata": {},
   "source": [
    "Ya teniendo la certeza que a nuestra base de datos cuenta con los datos correctos seguimos a modificarla.\n",
    "A la base de datos original no se le va a retirar ninguna columna. Se le modificará la columna de fumador, como una variable indicadora con 1 si es fumador y 0 si no es fumador, con motivo de que sea más fácil contabilizar y ver su densidad en distintos ejercicios. Así como también se va a agregar una nueva columna en la cual se va a dividir por clases el índice de masa corporal (bmi) como Bajo (menor a 28 kg/m^2) Medio (entre 28kg/m^2 y 41kg/m^2) y alto (superior a 54kg/m^2) y otra que nos divida por clases la edad de nuestra población para identificar los grupos de edades con ciertas características en distintos ejercicios, comenzando por jóvenes de 18 a 30 años, adultos de 30 a 55 años y mayores de 55 a 64 años. \n",
    "Con esto creamos una nueva base de datos"
   ]
  },
  {
   "cell_type": "code",
   "execution_count": 47,
   "metadata": {},
   "outputs": [
    {
     "data": {
      "text/html": [
       "<div>\n",
       "<style scoped>\n",
       "    .dataframe tbody tr th:only-of-type {\n",
       "        vertical-align: middle;\n",
       "    }\n",
       "\n",
       "    .dataframe tbody tr th {\n",
       "        vertical-align: top;\n",
       "    }\n",
       "\n",
       "    .dataframe thead th {\n",
       "        text-align: right;\n",
       "    }\n",
       "</style>\n",
       "<table border=\"1\" class=\"dataframe\">\n",
       "  <thead>\n",
       "    <tr style=\"text-align: right;\">\n",
       "      <th></th>\n",
       "      <th>age</th>\n",
       "      <th>sex</th>\n",
       "      <th>bmi</th>\n",
       "      <th>children</th>\n",
       "      <th>smoker</th>\n",
       "      <th>region</th>\n",
       "      <th>charges</th>\n",
       "      <th>imc</th>\n",
       "      <th>categoria</th>\n",
       "    </tr>\n",
       "  </thead>\n",
       "  <tbody>\n",
       "    <tr>\n",
       "      <th>0</th>\n",
       "      <td>19</td>\n",
       "      <td>female</td>\n",
       "      <td>27.900</td>\n",
       "      <td>0</td>\n",
       "      <td>1</td>\n",
       "      <td>southwest</td>\n",
       "      <td>16884.92400</td>\n",
       "      <td>Bajo</td>\n",
       "      <td>Joven</td>\n",
       "    </tr>\n",
       "    <tr>\n",
       "      <th>1</th>\n",
       "      <td>18</td>\n",
       "      <td>male</td>\n",
       "      <td>33.770</td>\n",
       "      <td>1</td>\n",
       "      <td>0</td>\n",
       "      <td>southeast</td>\n",
       "      <td>1725.55230</td>\n",
       "      <td>Medio</td>\n",
       "      <td>Joven</td>\n",
       "    </tr>\n",
       "    <tr>\n",
       "      <th>2</th>\n",
       "      <td>28</td>\n",
       "      <td>male</td>\n",
       "      <td>33.000</td>\n",
       "      <td>3</td>\n",
       "      <td>0</td>\n",
       "      <td>southeast</td>\n",
       "      <td>4449.46200</td>\n",
       "      <td>Medio</td>\n",
       "      <td>Joven</td>\n",
       "    </tr>\n",
       "    <tr>\n",
       "      <th>3</th>\n",
       "      <td>33</td>\n",
       "      <td>male</td>\n",
       "      <td>22.705</td>\n",
       "      <td>0</td>\n",
       "      <td>0</td>\n",
       "      <td>northwest</td>\n",
       "      <td>21984.47061</td>\n",
       "      <td>Bajo</td>\n",
       "      <td>Adulto</td>\n",
       "    </tr>\n",
       "    <tr>\n",
       "      <th>4</th>\n",
       "      <td>32</td>\n",
       "      <td>male</td>\n",
       "      <td>28.880</td>\n",
       "      <td>0</td>\n",
       "      <td>0</td>\n",
       "      <td>northwest</td>\n",
       "      <td>3866.85520</td>\n",
       "      <td>Medio</td>\n",
       "      <td>Adulto</td>\n",
       "    </tr>\n",
       "    <tr>\n",
       "      <th>5</th>\n",
       "      <td>31</td>\n",
       "      <td>female</td>\n",
       "      <td>25.740</td>\n",
       "      <td>0</td>\n",
       "      <td>0</td>\n",
       "      <td>southeast</td>\n",
       "      <td>3756.62160</td>\n",
       "      <td>Bajo</td>\n",
       "      <td>Adulto</td>\n",
       "    </tr>\n",
       "    <tr>\n",
       "      <th>6</th>\n",
       "      <td>46</td>\n",
       "      <td>female</td>\n",
       "      <td>33.440</td>\n",
       "      <td>1</td>\n",
       "      <td>0</td>\n",
       "      <td>southeast</td>\n",
       "      <td>8240.58960</td>\n",
       "      <td>Medio</td>\n",
       "      <td>Adulto</td>\n",
       "    </tr>\n",
       "    <tr>\n",
       "      <th>7</th>\n",
       "      <td>37</td>\n",
       "      <td>female</td>\n",
       "      <td>27.740</td>\n",
       "      <td>3</td>\n",
       "      <td>0</td>\n",
       "      <td>northwest</td>\n",
       "      <td>7281.50560</td>\n",
       "      <td>Bajo</td>\n",
       "      <td>Adulto</td>\n",
       "    </tr>\n",
       "    <tr>\n",
       "      <th>8</th>\n",
       "      <td>37</td>\n",
       "      <td>male</td>\n",
       "      <td>29.830</td>\n",
       "      <td>2</td>\n",
       "      <td>0</td>\n",
       "      <td>northeast</td>\n",
       "      <td>6406.41070</td>\n",
       "      <td>Medio</td>\n",
       "      <td>Adulto</td>\n",
       "    </tr>\n",
       "    <tr>\n",
       "      <th>9</th>\n",
       "      <td>60</td>\n",
       "      <td>female</td>\n",
       "      <td>25.840</td>\n",
       "      <td>0</td>\n",
       "      <td>0</td>\n",
       "      <td>northwest</td>\n",
       "      <td>28923.13692</td>\n",
       "      <td>Bajo</td>\n",
       "      <td>Mayor</td>\n",
       "    </tr>\n",
       "    <tr>\n",
       "      <th>10</th>\n",
       "      <td>25</td>\n",
       "      <td>male</td>\n",
       "      <td>26.220</td>\n",
       "      <td>0</td>\n",
       "      <td>0</td>\n",
       "      <td>northeast</td>\n",
       "      <td>2721.32080</td>\n",
       "      <td>Bajo</td>\n",
       "      <td>Joven</td>\n",
       "    </tr>\n",
       "    <tr>\n",
       "      <th>11</th>\n",
       "      <td>62</td>\n",
       "      <td>female</td>\n",
       "      <td>26.290</td>\n",
       "      <td>0</td>\n",
       "      <td>1</td>\n",
       "      <td>southeast</td>\n",
       "      <td>27808.72510</td>\n",
       "      <td>Bajo</td>\n",
       "      <td>Mayor</td>\n",
       "    </tr>\n",
       "    <tr>\n",
       "      <th>12</th>\n",
       "      <td>23</td>\n",
       "      <td>male</td>\n",
       "      <td>34.400</td>\n",
       "      <td>0</td>\n",
       "      <td>0</td>\n",
       "      <td>southwest</td>\n",
       "      <td>1826.84300</td>\n",
       "      <td>Medio</td>\n",
       "      <td>Joven</td>\n",
       "    </tr>\n",
       "    <tr>\n",
       "      <th>13</th>\n",
       "      <td>56</td>\n",
       "      <td>female</td>\n",
       "      <td>39.820</td>\n",
       "      <td>0</td>\n",
       "      <td>0</td>\n",
       "      <td>southeast</td>\n",
       "      <td>11090.71780</td>\n",
       "      <td>Medio</td>\n",
       "      <td>Mayor</td>\n",
       "    </tr>\n",
       "    <tr>\n",
       "      <th>14</th>\n",
       "      <td>27</td>\n",
       "      <td>male</td>\n",
       "      <td>42.130</td>\n",
       "      <td>0</td>\n",
       "      <td>1</td>\n",
       "      <td>southeast</td>\n",
       "      <td>39611.75770</td>\n",
       "      <td>Alto</td>\n",
       "      <td>Joven</td>\n",
       "    </tr>\n",
       "  </tbody>\n",
       "</table>\n",
       "</div>"
      ],
      "text/plain": [
       "    age     sex     bmi  children  smoker     region      charges    imc  \\\n",
       "0    19  female  27.900         0       1  southwest  16884.92400   Bajo   \n",
       "1    18    male  33.770         1       0  southeast   1725.55230  Medio   \n",
       "2    28    male  33.000         3       0  southeast   4449.46200  Medio   \n",
       "3    33    male  22.705         0       0  northwest  21984.47061   Bajo   \n",
       "4    32    male  28.880         0       0  northwest   3866.85520  Medio   \n",
       "5    31  female  25.740         0       0  southeast   3756.62160   Bajo   \n",
       "6    46  female  33.440         1       0  southeast   8240.58960  Medio   \n",
       "7    37  female  27.740         3       0  northwest   7281.50560   Bajo   \n",
       "8    37    male  29.830         2       0  northeast   6406.41070  Medio   \n",
       "9    60  female  25.840         0       0  northwest  28923.13692   Bajo   \n",
       "10   25    male  26.220         0       0  northeast   2721.32080   Bajo   \n",
       "11   62  female  26.290         0       1  southeast  27808.72510   Bajo   \n",
       "12   23    male  34.400         0       0  southwest   1826.84300  Medio   \n",
       "13   56  female  39.820         0       0  southeast  11090.71780  Medio   \n",
       "14   27    male  42.130         0       1  southeast  39611.75770   Alto   \n",
       "\n",
       "   categoria  \n",
       "0      Joven  \n",
       "1      Joven  \n",
       "2      Joven  \n",
       "3     Adulto  \n",
       "4     Adulto  \n",
       "5     Adulto  \n",
       "6     Adulto  \n",
       "7     Adulto  \n",
       "8     Adulto  \n",
       "9      Mayor  \n",
       "10     Joven  \n",
       "11     Mayor  \n",
       "12     Joven  \n",
       "13     Mayor  \n",
       "14     Joven  "
      ]
     },
     "execution_count": 47,
     "metadata": {},
     "output_type": "execute_result"
    }
   ],
   "source": [
    "y=[]\n",
    "z=[]\n",
    "w=[]\n",
    "datos_x = df[\"smoker\"]\n",
    "for i in datos_x:\n",
    "    if (i==\"yes\"):\n",
    "        i=1\n",
    "    else:\n",
    "        i=0\n",
    "    y.append(i)    \n",
    "df[\"smoker\"]=y\n",
    "   \n",
    "\n",
    "datos_y=df[\"bmi\"]\n",
    "for j in datos_y:\n",
    "    if (j<28):\n",
    "        j=\"Bajo\"\n",
    "    elif(j>28 and j<41):\n",
    "        j=\"Medio\"\n",
    "    else:\n",
    "        j=\"Alto\"        \n",
    "    z.append(j)\n",
    "\n",
    "imc=pd.DataFrame(z)    \n",
    "df['imc'] = imc #agregar\n",
    "\n",
    "datos_w=df[\"age\"]\n",
    "for k in datos_w:\n",
    "    if (k<30):\n",
    "        k=\"Joven\"\n",
    "    elif(k>30 and k<55):\n",
    "        k=\"Adulto\"\n",
    "    else:\n",
    "        k=\"Mayor\"        \n",
    "    w.append(k)\n",
    "\n",
    "categoria=pd.DataFrame(w)    \n",
    "df['categoria'] =categoria\n",
    "\n",
    "data=df\n",
    "data.head(15)"
   ]
  },
  {
   "cell_type": "markdown",
   "metadata": {},
   "source": [
    "##### 2.- Estadística Básica\n",
    "En esta parte nos enfocaremos en nuestra primera pregunta de interés, que es determinar cuál variable es la que tiene más impacto en una prima de un seguro de GM. Comenzamos mostrando la estadística de nuestra variable referente a la prima de nuestra base de datos."
   ]
  },
  {
   "cell_type": "code",
   "execution_count": 6,
   "metadata": {},
   "outputs": [
    {
     "data": {
      "text/plain": [
       "count     1338.000000\n",
       "mean     13270.422265\n",
       "std      12110.011237\n",
       "min       1121.873900\n",
       "25%       4740.287150\n",
       "50%       9382.033000\n",
       "75%      16639.912515\n",
       "max      63770.428010\n",
       "Name: charges, dtype: float64"
      ]
     },
     "execution_count": 6,
     "metadata": {},
     "output_type": "execute_result"
    }
   ],
   "source": [
    "data['charges'].describe()"
   ]
  },
  {
   "cell_type": "markdown",
   "metadata": {},
   "source": [
    "Se puede observar en promedio la prima cobrada por una compañía aseguradora es de: 13,270.422, lo que es mucho menor que el máximo de lo que se cobra que es: 63,770.42. Nuestro propósito es determinar a qué variables le podemos atribuir este incremento.\n",
    "Para el resto de estadísticas a mostrar es importante determinar si existe algún tipo de sesgo."
   ]
  },
  {
   "cell_type": "code",
   "execution_count": 7,
   "metadata": {},
   "outputs": [
    {
     "data": {
      "text/plain": [
       "sex\n",
       "female    662\n",
       "male      676\n",
       "dtype: int64"
      ]
     },
     "execution_count": 7,
     "metadata": {},
     "output_type": "execute_result"
    }
   ],
   "source": [
    "data.groupby(['sex'])[['sex']].size()"
   ]
  },
  {
   "cell_type": "code",
   "execution_count": 8,
   "metadata": {},
   "outputs": [
    {
     "data": {
      "text/plain": [
       "imc\n",
       "Alto      71\n",
       "Bajo     466\n",
       "Medio    801\n",
       "dtype: int64"
      ]
     },
     "execution_count": 8,
     "metadata": {},
     "output_type": "execute_result"
    }
   ],
   "source": [
    "data.groupby(['imc'])[['imc']].size()"
   ]
  },
  {
   "cell_type": "code",
   "execution_count": 9,
   "metadata": {},
   "outputs": [
    {
     "data": {
      "text/plain": [
       "<matplotlib.axes._subplots.AxesSubplot at 0x285b5cd940>"
      ]
     },
     "execution_count": 9,
     "metadata": {},
     "output_type": "execute_result"
    },
    {
     "data": {
      "image/png": "[encoded data removed]",
      "text/plain": [
       "<Figure size 432x288 with 1 Axes>"
      ]
     },
     "metadata": {
      "needs_background": "light"
     },
     "output_type": "display_data"
    }
   ],
   "source": [
    "data['age'].plot.hist()"
   ]
  },
  {
   "cell_type": "markdown",
   "metadata": {},
   "source": [
    "Se puede observar que la cantidad de hombres y mujeres elegidos para este estudio es balanceada. También que la mayoría tiene un índice de masa corporal medio, seguidos por los que tienen un IMC bajo y por último los que tienen un IMC alto y con la gráfica se puede observar que hay más individuos menores de 20 años que del resto de las edades de la población.\n",
    "\n",
    "A continuación, realizaremos un análisis por regiones de algunas de nuestras variables para determinar si hay alguna región que podremos determinar que sea de \"alto riesgo\"."
   ]
  },
  {
   "cell_type": "code",
   "execution_count": 12,
   "metadata": {},
   "outputs": [
    {
     "data": {
      "text/html": [
       "<div>\n",
       "<style scoped>\n",
       "    .dataframe tbody tr th:only-of-type {\n",
       "        vertical-align: middle;\n",
       "    }\n",
       "\n",
       "    .dataframe tbody tr th {\n",
       "        vertical-align: top;\n",
       "    }\n",
       "\n",
       "    .dataframe thead th {\n",
       "        text-align: right;\n",
       "    }\n",
       "</style>\n",
       "<table border=\"1\" class=\"dataframe\">\n",
       "  <thead>\n",
       "    <tr style=\"text-align: right;\">\n",
       "      <th></th>\n",
       "      <th>age</th>\n",
       "      <th>bmi</th>\n",
       "      <th>charges</th>\n",
       "      <th>children</th>\n",
       "    </tr>\n",
       "    <tr>\n",
       "      <th>region</th>\n",
       "      <th></th>\n",
       "      <th></th>\n",
       "      <th></th>\n",
       "      <th></th>\n",
       "    </tr>\n",
       "  </thead>\n",
       "  <tbody>\n",
       "    <tr>\n",
       "      <th>northeast</th>\n",
       "      <td>39.268519</td>\n",
       "      <td>29.173503</td>\n",
       "      <td>13406.384516</td>\n",
       "      <td>1.046296</td>\n",
       "    </tr>\n",
       "    <tr>\n",
       "      <th>northwest</th>\n",
       "      <td>39.196923</td>\n",
       "      <td>29.199785</td>\n",
       "      <td>12417.575374</td>\n",
       "      <td>1.147692</td>\n",
       "    </tr>\n",
       "    <tr>\n",
       "      <th>southeast</th>\n",
       "      <td>38.939560</td>\n",
       "      <td>33.355989</td>\n",
       "      <td>14735.411438</td>\n",
       "      <td>1.049451</td>\n",
       "    </tr>\n",
       "    <tr>\n",
       "      <th>southwest</th>\n",
       "      <td>39.455385</td>\n",
       "      <td>30.596615</td>\n",
       "      <td>12346.937377</td>\n",
       "      <td>1.141538</td>\n",
       "    </tr>\n",
       "  </tbody>\n",
       "</table>\n",
       "</div>"
      ],
      "text/plain": [
       "                 age        bmi       charges  children\n",
       "region                                                 \n",
       "northeast  39.268519  29.173503  13406.384516  1.046296\n",
       "northwest  39.196923  29.199785  12417.575374  1.147692\n",
       "southeast  38.939560  33.355989  14735.411438  1.049451\n",
       "southwest  39.455385  30.596615  12346.937377  1.141538"
      ]
     },
     "execution_count": 12,
     "metadata": {},
     "output_type": "execute_result"
    }
   ],
   "source": [
    "pkt = data.pivot_table(index=\"region\",values=[\"charges\",\"bmi\",\"age\",\"children\"],aggfunc='mean')\n",
    "pkt.head()"
   ]
  },
  {
   "cell_type": "code",
   "execution_count": 14,
   "metadata": {},
   "outputs": [
    {
     "data": {
      "text/html": [
       "<div>\n",
       "<style scoped>\n",
       "    .dataframe tbody tr th:only-of-type {\n",
       "        vertical-align: middle;\n",
       "    }\n",
       "\n",
       "    .dataframe tbody tr th {\n",
       "        vertical-align: top;\n",
       "    }\n",
       "\n",
       "    .dataframe thead th {\n",
       "        text-align: right;\n",
       "    }\n",
       "</style>\n",
       "<table border=\"1\" class=\"dataframe\">\n",
       "  <thead>\n",
       "    <tr style=\"text-align: right;\">\n",
       "      <th></th>\n",
       "      <th>smoker</th>\n",
       "    </tr>\n",
       "    <tr>\n",
       "      <th>region</th>\n",
       "      <th></th>\n",
       "    </tr>\n",
       "  </thead>\n",
       "  <tbody>\n",
       "    <tr>\n",
       "      <th>northeast</th>\n",
       "      <td>67</td>\n",
       "    </tr>\n",
       "    <tr>\n",
       "      <th>northwest</th>\n",
       "      <td>58</td>\n",
       "    </tr>\n",
       "    <tr>\n",
       "      <th>southeast</th>\n",
       "      <td>91</td>\n",
       "    </tr>\n",
       "    <tr>\n",
       "      <th>southwest</th>\n",
       "      <td>58</td>\n",
       "    </tr>\n",
       "  </tbody>\n",
       "</table>\n",
       "</div>"
      ],
      "text/plain": [
       "           smoker\n",
       "region           \n",
       "northeast      67\n",
       "northwest      58\n",
       "southeast      91\n",
       "southwest      58"
      ]
     },
     "execution_count": 14,
     "metadata": {},
     "output_type": "execute_result"
    }
   ],
   "source": [
    "pkt1 = data.pivot_table(index=\"region\",values=[\"smoker\"], aggfunc='sum')\n",
    "pkt1.head()"
   ]
  },
  {
   "cell_type": "markdown",
   "metadata": {},
   "source": [
    "Aquí podemos inferir que el sureste (southeast) es la región que en promedio presenta el mayor monto en prima y adicional es la que en promedio tiene un mayor IMC y cuenta con más fumadores. Teniendo en cuenta que en promedio la edad es la menor podemos atribuir que esta región presenta peores hábitos y se ve reflejado en la prima que se cobra a sus asegurados."
   ]
  },
  {
   "cell_type": "markdown",
   "metadata": {},
   "source": [
    "Por último, es importante destacar los siguientes datos sobre Fumadores para tomarlos en cuenta en nuestras conclusiones de las siguientes graficas"
   ]
  },
  {
   "cell_type": "code",
   "execution_count": 15,
   "metadata": {},
   "outputs": [
    {
     "data": {
      "text/plain": [
       "0.20478325859491778"
      ]
     },
     "execution_count": 15,
     "metadata": {},
     "output_type": "execute_result"
    }
   ],
   "source": [
    "data['smoker'].mean()"
   ]
  },
  {
   "cell_type": "code",
   "execution_count": 16,
   "metadata": {},
   "outputs": [
    {
     "data": {
      "text/html": [
       "<div>\n",
       "<style scoped>\n",
       "    .dataframe tbody tr th:only-of-type {\n",
       "        vertical-align: middle;\n",
       "    }\n",
       "\n",
       "    .dataframe tbody tr th {\n",
       "        vertical-align: top;\n",
       "    }\n",
       "\n",
       "    .dataframe thead th {\n",
       "        text-align: right;\n",
       "    }\n",
       "</style>\n",
       "<table border=\"1\" class=\"dataframe\">\n",
       "  <thead>\n",
       "    <tr style=\"text-align: right;\">\n",
       "      <th></th>\n",
       "      <th>smoker</th>\n",
       "    </tr>\n",
       "    <tr>\n",
       "      <th>sex</th>\n",
       "      <th></th>\n",
       "    </tr>\n",
       "  </thead>\n",
       "  <tbody>\n",
       "    <tr>\n",
       "      <th>female</th>\n",
       "      <td>115</td>\n",
       "    </tr>\n",
       "    <tr>\n",
       "      <th>male</th>\n",
       "      <td>159</td>\n",
       "    </tr>\n",
       "  </tbody>\n",
       "</table>\n",
       "</div>"
      ],
      "text/plain": [
       "        smoker\n",
       "sex           \n",
       "female     115\n",
       "male       159"
      ]
     },
     "execution_count": 16,
     "metadata": {},
     "output_type": "execute_result"
    }
   ],
   "source": [
    "pkt1 = data.pivot_table(index=\"sex\",values=[\"smoker\"], aggfunc='sum')\n",
    "pkt1.head()"
   ]
  },
  {
   "cell_type": "markdown",
   "metadata": {},
   "source": [
    "Con estos datos podemos concluir que un poco más del 20% de nuestra población tiene el hábito de fumar y que es mayor el número de hombres fumadores que mujeres"
   ]
  },
  {
   "cell_type": "markdown",
   "metadata": {},
   "source": [
    "##### 3.- Graficas\n",
    "Iniciaremos con un mapa de calor con el fin de visualizar la correlación de nuestras variables para identificar cuáles pueden ser el principal objeto de estudio."
   ]
  },
  {
   "cell_type": "code",
   "execution_count": 17,
   "metadata": {},
   "outputs": [
    {
     "data": {
      "text/plain": [
       "<matplotlib.axes._subplots.AxesSubplot at 0x286138f710>"
      ]
     },
     "execution_count": 17,
     "metadata": {},
     "output_type": "execute_result"
    },
    {
     "data": {
      "image/png": "[encoded data removed]",
      "text/plain": [
       "<Figure size 432x288 with 2 Axes>"
      ]
     },
     "metadata": {
      "needs_background": "light"
     },
     "output_type": "display_data"
    }
   ],
   "source": [
    "corr= data.corr()\n",
    "sns.heatmap(corr, xticklabels=corr.columns, yticklabels=corr.columns)"
   ]
  },
  {
   "cell_type": "markdown",
   "metadata": {},
   "source": [
    "Se puede observar que la variable que tiene más influencia en la prima del seguro es si la persona fuma o no, seguido por la edad, el IMC y finalmente el número de hijos. Aquí podemos comenzar a ver cuáles son las variables que tienen mayor impacto en la prima.\n",
    "\n",
    "Comenzando por la variable de fumador, graficaremos un box plot vs la prima para ver la distribución entre fumadores y no fumadores"
   ]
  },
  {
   "cell_type": "code",
   "execution_count": 18,
   "metadata": {},
   "outputs": [
    {
     "data": {
      "text/plain": [
       "<matplotlib.axes._subplots.AxesSubplot at 0x285ae09a20>"
      ]
     },
     "execution_count": 18,
     "metadata": {},
     "output_type": "execute_result"
    },
    {
     "data": {
      "image/png": "[encoded data removed]",
      "text/plain": [
       "<Figure size 432x288 with 1 Axes>"
      ]
     },
     "metadata": {
      "needs_background": "light"
     },
     "output_type": "display_data"
    }
   ],
   "source": [
    "box = data[data.smoker.isin(data.smoker.value_counts().index)]\n",
    "sns.boxplot(x='smoker', y='charges', data=box)"
   ]
  },
  {
   "cell_type": "markdown",
   "metadata": {},
   "source": [
    "Se puede observar que efectivamente que las primas cobradas a un fumador en promedio son mucho más altos que los costos de un no fumador. Pero también podemos observar que hay muchos valores atípicos con cargos más altos del lado de los no fumadores. Comenzaremos a analizar estos valores atípicos"
   ]
  },
  {
   "cell_type": "code",
   "execution_count": 19,
   "metadata": {},
   "outputs": [
    {
     "data": {
      "text/html": [
       "<div>\n",
       "<style scoped>\n",
       "    .dataframe tbody tr th:only-of-type {\n",
       "        vertical-align: middle;\n",
       "    }\n",
       "\n",
       "    .dataframe tbody tr th {\n",
       "        vertical-align: top;\n",
       "    }\n",
       "\n",
       "    .dataframe thead th {\n",
       "        text-align: right;\n",
       "    }\n",
       "</style>\n",
       "<table border=\"1\" class=\"dataframe\">\n",
       "  <thead>\n",
       "    <tr style=\"text-align: right;\">\n",
       "      <th></th>\n",
       "      <th>age</th>\n",
       "      <th>sex</th>\n",
       "      <th>bmi</th>\n",
       "      <th>children</th>\n",
       "      <th>smoker</th>\n",
       "      <th>region</th>\n",
       "      <th>charges</th>\n",
       "      <th>imc</th>\n",
       "      <th>categoria</th>\n",
       "    </tr>\n",
       "  </thead>\n",
       "  <tbody>\n",
       "    <tr>\n",
       "      <th>3</th>\n",
       "      <td>33</td>\n",
       "      <td>male</td>\n",
       "      <td>22.705</td>\n",
       "      <td>0</td>\n",
       "      <td>0</td>\n",
       "      <td>northwest</td>\n",
       "      <td>21984.47061</td>\n",
       "      <td>Bajo</td>\n",
       "      <td>Adulto</td>\n",
       "    </tr>\n",
       "    <tr>\n",
       "      <th>9</th>\n",
       "      <td>60</td>\n",
       "      <td>female</td>\n",
       "      <td>25.840</td>\n",
       "      <td>0</td>\n",
       "      <td>0</td>\n",
       "      <td>northwest</td>\n",
       "      <td>28923.13692</td>\n",
       "      <td>Bajo</td>\n",
       "      <td>Mayor</td>\n",
       "    </tr>\n",
       "    <tr>\n",
       "      <th>45</th>\n",
       "      <td>55</td>\n",
       "      <td>male</td>\n",
       "      <td>37.300</td>\n",
       "      <td>0</td>\n",
       "      <td>0</td>\n",
       "      <td>southwest</td>\n",
       "      <td>20630.28351</td>\n",
       "      <td>Medio</td>\n",
       "      <td>Mayor</td>\n",
       "    </tr>\n",
       "    <tr>\n",
       "      <th>62</th>\n",
       "      <td>64</td>\n",
       "      <td>male</td>\n",
       "      <td>24.700</td>\n",
       "      <td>1</td>\n",
       "      <td>0</td>\n",
       "      <td>northwest</td>\n",
       "      <td>30166.61817</td>\n",
       "      <td>Bajo</td>\n",
       "      <td>Mayor</td>\n",
       "    </tr>\n",
       "    <tr>\n",
       "      <th>102</th>\n",
       "      <td>18</td>\n",
       "      <td>female</td>\n",
       "      <td>30.115</td>\n",
       "      <td>0</td>\n",
       "      <td>0</td>\n",
       "      <td>northeast</td>\n",
       "      <td>21344.84670</td>\n",
       "      <td>Medio</td>\n",
       "      <td>Joven</td>\n",
       "    </tr>\n",
       "  </tbody>\n",
       "</table>\n",
       "</div>"
      ],
      "text/plain": [
       "     age     sex     bmi  children  smoker     region      charges    imc  \\\n",
       "3     33    male  22.705         0       0  northwest  21984.47061   Bajo   \n",
       "9     60  female  25.840         0       0  northwest  28923.13692   Bajo   \n",
       "45    55    male  37.300         0       0  southwest  20630.28351  Medio   \n",
       "62    64    male  24.700         1       0  northwest  30166.61817   Bajo   \n",
       "102   18  female  30.115         0       0  northeast  21344.84670  Medio   \n",
       "\n",
       "    categoria  \n",
       "3      Adulto  \n",
       "9       Mayor  \n",
       "45      Mayor  \n",
       "62      Mayor  \n",
       "102     Joven  "
      ]
     },
     "execution_count": 19,
     "metadata": {},
     "output_type": "execute_result"
    }
   ],
   "source": [
    "nofumadores=data[data['smoker']==0]\n",
    "nofumadores=nofumadores[nofumadores['charges']>20000]\n",
    "nofumadores.head()"
   ]
  },
  {
   "cell_type": "markdown",
   "metadata": {},
   "source": [
    "Se filtró de la base de datos a los NO fumadores y los que presentan una prima mayor a 20,000, con esta extracción de la BD se realiza un gráfico de dispersión donde ubicamos a estas personas con la categoría de su imc."
   ]
  },
  {
   "cell_type": "code",
   "execution_count": 20,
   "metadata": {},
   "outputs": [
    {
     "data": {
      "text/plain": [
       "<seaborn.axisgrid.FacetGrid at 0x285ae7b7b8>"
      ]
     },
     "execution_count": 20,
     "metadata": {},
     "output_type": "execute_result"
    },
    {
     "data": {
      "image/png": "[encoded data removed]",
      "text/plain": [
       "<Figure size 426x360 with 1 Axes>"
      ]
     },
     "metadata": {
      "needs_background": "light"
     },
     "output_type": "display_data"
    }
   ],
   "source": [
    "sns.lmplot(x='age', y='charges', hue='imc', \n",
    "           data=nofumadores.loc[nofumadores['imc'].isin(['Alto', 'Medio','Bajo'])], \n",
    "           fit_reg=False)"
   ]
  },
  {
   "cell_type": "markdown",
   "metadata": {},
   "source": [
    "Analizando estos valores atípicos de los no fumadores podemos identificar que están ligeramente cargados a la derecha y que los que tienen una prima más elevada es por que empiezan a ser afectadas principalmente por la edad ya que su imc se encuentra en un nivel medio en su mayoría."
   ]
  },
  {
   "cell_type": "markdown",
   "metadata": {},
   "source": [
    "A continuación se realiza un ejercicio similar al anterior, en este boxplot se muestra por categoría Hombre y Mujer para identificar si esta variable influye en la prima"
   ]
  },
  {
   "cell_type": "code",
   "execution_count": 21,
   "metadata": {},
   "outputs": [
    {
     "data": {
      "text/plain": [
       "<matplotlib.axes._subplots.AxesSubplot at 0x285aec4400>"
      ]
     },
     "execution_count": 21,
     "metadata": {},
     "output_type": "execute_result"
    },
    {
     "data": {
      "image/png": "[encoded data removed]",
      "text/plain": [
       "<Figure size 432x288 with 1 Axes>"
      ]
     },
     "metadata": {
      "needs_background": "light"
     },
     "output_type": "display_data"
    }
   ],
   "source": [
    "box = data[data.smoker.isin(data.smoker.value_counts().index)]\n",
    "sns.boxplot(x='sex', y='charges', data=box)"
   ]
  },
  {
   "cell_type": "markdown",
   "metadata": {},
   "source": [
    "Podemos concluir que los hombres presentan mayores cargos en prima que las mujeres, pero esta vez observamos valores atípicos en las ambas categorías. Comenzamos por filtrar ambas categorías y también filtramos a partir de cuales cargos se empiezan a mostrar estos valores atípicos."
   ]
  },
  {
   "cell_type": "code",
   "execution_count": 22,
   "metadata": {},
   "outputs": [
    {
     "data": {
      "text/plain": [
       "<matplotlib.axes._subplots.AxesSubplot at 0x2861be72b0>"
      ]
     },
     "execution_count": 22,
     "metadata": {},
     "output_type": "execute_result"
    },
    {
     "data": {
      "image/png": "[encoded data removed]",
      "text/plain": [
       "<Figure size 432x288 with 1 Axes>"
      ]
     },
     "metadata": {
      "needs_background": "light"
     },
     "output_type": "display_data"
    }
   ],
   "source": [
    "F=data[data['sex']==\"female\"]\n",
    "F=F[F['charges']>30000]\n",
    "M=data[data['sex']==\"male\"]\n",
    "M=M[M['charges']>40000]\n",
    "atipicos=pd.concat([M,F])\n",
    "atipicos['region'].value_counts().sort_index().plot.bar()"
   ]
  },
  {
   "cell_type": "markdown",
   "metadata": {},
   "source": [
    "Entonces con esta extracción de la base de datos realizamos un análisis por región la cual nos muestra que la gran mayoría de estas personas pertenecen a la región del sureste (southeast) la que habíamos mencionado en nuestra estadística básica que es la región con el mayor número de fumadores y que presenta en promedio mayor imc que el resto de las regiones.\n",
    "\n",
    "Revisando el resto de regiones encontramos:"
   ]
  },
  {
   "cell_type": "code",
   "execution_count": 23,
   "metadata": {},
   "outputs": [
    {
     "data": {
      "text/plain": [
       "Text(0.5, 1.0, 'proporcion de Fumadores')"
      ]
     },
     "execution_count": 23,
     "metadata": {},
     "output_type": "execute_result"
    },
    {
     "data": {
      "image/png": "[encoded data removed]",
      "text/plain": [
       "<Figure size 576x432 with 1 Axes>"
      ]
     },
     "metadata": {},
     "output_type": "display_data"
    }
   ],
   "source": [
    "sinse=atipicos[atipicos['region']!=\"southeast\"]\n",
    "ax = sinse.smoker.value_counts().plot.pie(startangle=45,\n",
    "                                               autopct='%.1f %%',\n",
    "                                               figsize=(8, 6))\n",
    "ax.set_title(\"proporcion de Fumadores\",\n",
    "             fontsize=16, weight=\"bold\")"
   ]
  },
  {
   "cell_type": "markdown",
   "metadata": {},
   "source": [
    "Revisando el Resto de valores atípicos podemos inferir que en su gran mayoría las personas son fumadoras.\n",
    "\n",
    "Un dato que creemos importante mostrar es la covarianza que existe entre los cargos y el bmi (imc), adicional a esto mostramos por colores a las los fumadores y no fumadores"
   ]
  },
  {
   "cell_type": "code",
   "execution_count": 24,
   "metadata": {},
   "outputs": [
    {
     "data": {
      "text/plain": [
       "<seaborn.axisgrid.FacetGrid at 0x285ab670f0>"
      ]
     },
     "execution_count": 24,
     "metadata": {},
     "output_type": "execute_result"
    },
    {
     "data": {
      "image/png": "[encoded data removed]",
      "text/plain": [
       "<Figure size 404.875x360 with 1 Axes>"
      ]
     },
     "metadata": {
      "needs_background": "light"
     },
     "output_type": "display_data"
    }
   ],
   "source": [
    "sns.lmplot(x='bmi', y='charges', hue='smoker', \n",
    "           data=data.loc[data['smoker'].isin([1,0])], \n",
    "           fit_reg=False)"
   ]
  },
  {
   "cell_type": "markdown",
   "metadata": {},
   "source": [
    "Con esto podemos concluir que existe covarianza positiva entre los cargos y el bmi (imc), es decir si el bmi crece los cargos crecen, adicional a esto la misma grafica muestra que los cargos en primas aumentan considerablemente si la persona es fumadora, es decir si la persona fuma y tiene un imc alto su cargo en prima es de los más altos.\n",
    "\n",
    "El siguiente grafico es para mostrar la linealidad y covarianza positiva que existe entre los cargos y la edad, entre más edad tengas más aumentan la prima a pagar."
   ]
  },
  {
   "cell_type": "code",
   "execution_count": 25,
   "metadata": {},
   "outputs": [
    {
     "data": {
      "text/plain": [
       "<seaborn.axisgrid.FacetGrid at 0x285abb6d68>"
      ]
     },
     "execution_count": 25,
     "metadata": {},
     "output_type": "execute_result"
    },
    {
     "data": {
      "image/png": "[encoded data removed]",
      "text/plain": [
       "<Figure size 404.875x360 with 1 Axes>"
      ]
     },
     "metadata": {
      "needs_background": "light"
     },
     "output_type": "display_data"
    }
   ],
   "source": [
    "sns.lmplot(x='age', y='charges', hue='smoker', \n",
    "           data=data.loc[data['smoker'].isin([1,0])], \n",
    "           fit_reg=False)"
   ]
  },
  {
   "cell_type": "markdown",
   "metadata": {},
   "source": [
    "También es claro que el hecho de ser fumador aumenta el monto a pagar de la prima y está más cuando ya estas a una edad avanzada.  \n",
    "Así mismo se puede concluir que los valores atípicos de los no fumadores se pueden deber a un alto IMC, como ya hemos visto anteriormente en otras gráficas."
   ]
  },
  {
   "cell_type": "markdown",
   "metadata": {},
   "source": [
    "##### Conclusión final\n",
    "\n",
    "Al ir trabajando esta base de datos nos pudimos dar cuenta que existen varios factores que pueden influir para determinar monto de una prima de un seguro de gastos médicos, es un hecho que se puede decir que influye el hecho que seas mujer u hombre hasta en que región del país vives, pero también es un hecho que estas van en función de variables como la edad, el índice de masa corporal y si eres fumador o no. \n",
    "\n",
    "Después de este análisis podemos concluir que las variables que más tienen impacto en la prima de un seguro de gastos médicos es la Edad y hecho de que seas fumador o no, no es ningún secreto que estas dos pueden ser indicadoras del estado de salud de una persona.\n"
   ]
  },
  {
   "cell_type": "markdown",
   "metadata": {},
   "source": [
    "Para resolver la segunda pregunta de interés, primero creamos las vabiables \"dummys\" para las variables independientes categoricas:"
   ]
  },
  {
   "cell_type": "code",
   "execution_count": 48,
   "metadata": {},
   "outputs": [
    {
     "data": {
      "text/html": [
       "<div>\n",
       "<style scoped>\n",
       "    .dataframe tbody tr th:only-of-type {\n",
       "        vertical-align: middle;\n",
       "    }\n",
       "\n",
       "    .dataframe tbody tr th {\n",
       "        vertical-align: top;\n",
       "    }\n",
       "\n",
       "    .dataframe thead th {\n",
       "        text-align: right;\n",
       "    }\n",
       "</style>\n",
       "<table border=\"1\" class=\"dataframe\">\n",
       "  <thead>\n",
       "    <tr style=\"text-align: right;\">\n",
       "      <th></th>\n",
       "      <th>age</th>\n",
       "      <th>sex</th>\n",
       "      <th>bmi</th>\n",
       "      <th>children</th>\n",
       "      <th>smoker</th>\n",
       "      <th>region</th>\n",
       "      <th>charges</th>\n",
       "      <th>imc</th>\n",
       "      <th>categoria</th>\n",
       "      <th>imc_dummy</th>\n",
       "      <th>categoria_dummy</th>\n",
       "      <th>sex_dummy</th>\n",
       "      <th>region_dummy</th>\n",
       "    </tr>\n",
       "  </thead>\n",
       "  <tbody>\n",
       "    <tr>\n",
       "      <th>0</th>\n",
       "      <td>19</td>\n",
       "      <td>female</td>\n",
       "      <td>27.900</td>\n",
       "      <td>0</td>\n",
       "      <td>1</td>\n",
       "      <td>southwest</td>\n",
       "      <td>16884.92400</td>\n",
       "      <td>Bajo</td>\n",
       "      <td>Joven</td>\n",
       "      <td>0</td>\n",
       "      <td>0</td>\n",
       "      <td>1</td>\n",
       "      <td>0</td>\n",
       "    </tr>\n",
       "    <tr>\n",
       "      <th>1</th>\n",
       "      <td>18</td>\n",
       "      <td>male</td>\n",
       "      <td>33.770</td>\n",
       "      <td>1</td>\n",
       "      <td>0</td>\n",
       "      <td>southeast</td>\n",
       "      <td>1725.55230</td>\n",
       "      <td>Medio</td>\n",
       "      <td>Joven</td>\n",
       "      <td>1</td>\n",
       "      <td>0</td>\n",
       "      <td>0</td>\n",
       "      <td>1</td>\n",
       "    </tr>\n",
       "    <tr>\n",
       "      <th>2</th>\n",
       "      <td>28</td>\n",
       "      <td>male</td>\n",
       "      <td>33.000</td>\n",
       "      <td>3</td>\n",
       "      <td>0</td>\n",
       "      <td>southeast</td>\n",
       "      <td>4449.46200</td>\n",
       "      <td>Medio</td>\n",
       "      <td>Joven</td>\n",
       "      <td>1</td>\n",
       "      <td>0</td>\n",
       "      <td>0</td>\n",
       "      <td>1</td>\n",
       "    </tr>\n",
       "    <tr>\n",
       "      <th>3</th>\n",
       "      <td>33</td>\n",
       "      <td>male</td>\n",
       "      <td>22.705</td>\n",
       "      <td>0</td>\n",
       "      <td>0</td>\n",
       "      <td>northwest</td>\n",
       "      <td>21984.47061</td>\n",
       "      <td>Bajo</td>\n",
       "      <td>Adulto</td>\n",
       "      <td>0</td>\n",
       "      <td>1</td>\n",
       "      <td>0</td>\n",
       "      <td>3</td>\n",
       "    </tr>\n",
       "    <tr>\n",
       "      <th>4</th>\n",
       "      <td>32</td>\n",
       "      <td>male</td>\n",
       "      <td>28.880</td>\n",
       "      <td>0</td>\n",
       "      <td>0</td>\n",
       "      <td>northwest</td>\n",
       "      <td>3866.85520</td>\n",
       "      <td>Medio</td>\n",
       "      <td>Adulto</td>\n",
       "      <td>1</td>\n",
       "      <td>1</td>\n",
       "      <td>0</td>\n",
       "      <td>3</td>\n",
       "    </tr>\n",
       "    <tr>\n",
       "      <th>5</th>\n",
       "      <td>31</td>\n",
       "      <td>female</td>\n",
       "      <td>25.740</td>\n",
       "      <td>0</td>\n",
       "      <td>0</td>\n",
       "      <td>southeast</td>\n",
       "      <td>3756.62160</td>\n",
       "      <td>Bajo</td>\n",
       "      <td>Adulto</td>\n",
       "      <td>0</td>\n",
       "      <td>1</td>\n",
       "      <td>1</td>\n",
       "      <td>1</td>\n",
       "    </tr>\n",
       "    <tr>\n",
       "      <th>6</th>\n",
       "      <td>46</td>\n",
       "      <td>female</td>\n",
       "      <td>33.440</td>\n",
       "      <td>1</td>\n",
       "      <td>0</td>\n",
       "      <td>southeast</td>\n",
       "      <td>8240.58960</td>\n",
       "      <td>Medio</td>\n",
       "      <td>Adulto</td>\n",
       "      <td>1</td>\n",
       "      <td>1</td>\n",
       "      <td>1</td>\n",
       "      <td>1</td>\n",
       "    </tr>\n",
       "    <tr>\n",
       "      <th>7</th>\n",
       "      <td>37</td>\n",
       "      <td>female</td>\n",
       "      <td>27.740</td>\n",
       "      <td>3</td>\n",
       "      <td>0</td>\n",
       "      <td>northwest</td>\n",
       "      <td>7281.50560</td>\n",
       "      <td>Bajo</td>\n",
       "      <td>Adulto</td>\n",
       "      <td>0</td>\n",
       "      <td>1</td>\n",
       "      <td>1</td>\n",
       "      <td>3</td>\n",
       "    </tr>\n",
       "    <tr>\n",
       "      <th>8</th>\n",
       "      <td>37</td>\n",
       "      <td>male</td>\n",
       "      <td>29.830</td>\n",
       "      <td>2</td>\n",
       "      <td>0</td>\n",
       "      <td>northeast</td>\n",
       "      <td>6406.41070</td>\n",
       "      <td>Medio</td>\n",
       "      <td>Adulto</td>\n",
       "      <td>1</td>\n",
       "      <td>1</td>\n",
       "      <td>0</td>\n",
       "      <td>4</td>\n",
       "    </tr>\n",
       "    <tr>\n",
       "      <th>9</th>\n",
       "      <td>60</td>\n",
       "      <td>female</td>\n",
       "      <td>25.840</td>\n",
       "      <td>0</td>\n",
       "      <td>0</td>\n",
       "      <td>northwest</td>\n",
       "      <td>28923.13692</td>\n",
       "      <td>Bajo</td>\n",
       "      <td>Mayor</td>\n",
       "      <td>0</td>\n",
       "      <td>2</td>\n",
       "      <td>1</td>\n",
       "      <td>3</td>\n",
       "    </tr>\n",
       "    <tr>\n",
       "      <th>10</th>\n",
       "      <td>25</td>\n",
       "      <td>male</td>\n",
       "      <td>26.220</td>\n",
       "      <td>0</td>\n",
       "      <td>0</td>\n",
       "      <td>northeast</td>\n",
       "      <td>2721.32080</td>\n",
       "      <td>Bajo</td>\n",
       "      <td>Joven</td>\n",
       "      <td>0</td>\n",
       "      <td>0</td>\n",
       "      <td>0</td>\n",
       "      <td>4</td>\n",
       "    </tr>\n",
       "    <tr>\n",
       "      <th>11</th>\n",
       "      <td>62</td>\n",
       "      <td>female</td>\n",
       "      <td>26.290</td>\n",
       "      <td>0</td>\n",
       "      <td>1</td>\n",
       "      <td>southeast</td>\n",
       "      <td>27808.72510</td>\n",
       "      <td>Bajo</td>\n",
       "      <td>Mayor</td>\n",
       "      <td>0</td>\n",
       "      <td>2</td>\n",
       "      <td>1</td>\n",
       "      <td>1</td>\n",
       "    </tr>\n",
       "    <tr>\n",
       "      <th>12</th>\n",
       "      <td>23</td>\n",
       "      <td>male</td>\n",
       "      <td>34.400</td>\n",
       "      <td>0</td>\n",
       "      <td>0</td>\n",
       "      <td>southwest</td>\n",
       "      <td>1826.84300</td>\n",
       "      <td>Medio</td>\n",
       "      <td>Joven</td>\n",
       "      <td>1</td>\n",
       "      <td>0</td>\n",
       "      <td>0</td>\n",
       "      <td>0</td>\n",
       "    </tr>\n",
       "    <tr>\n",
       "      <th>13</th>\n",
       "      <td>56</td>\n",
       "      <td>female</td>\n",
       "      <td>39.820</td>\n",
       "      <td>0</td>\n",
       "      <td>0</td>\n",
       "      <td>southeast</td>\n",
       "      <td>11090.71780</td>\n",
       "      <td>Medio</td>\n",
       "      <td>Mayor</td>\n",
       "      <td>1</td>\n",
       "      <td>2</td>\n",
       "      <td>1</td>\n",
       "      <td>1</td>\n",
       "    </tr>\n",
       "    <tr>\n",
       "      <th>14</th>\n",
       "      <td>27</td>\n",
       "      <td>male</td>\n",
       "      <td>42.130</td>\n",
       "      <td>0</td>\n",
       "      <td>1</td>\n",
       "      <td>southeast</td>\n",
       "      <td>39611.75770</td>\n",
       "      <td>Alto</td>\n",
       "      <td>Joven</td>\n",
       "      <td>2</td>\n",
       "      <td>0</td>\n",
       "      <td>0</td>\n",
       "      <td>1</td>\n",
       "    </tr>\n",
       "  </tbody>\n",
       "</table>\n",
       "</div>"
      ],
      "text/plain": [
       "    age     sex     bmi  children  smoker     region      charges    imc  \\\n",
       "0    19  female  27.900         0       1  southwest  16884.92400   Bajo   \n",
       "1    18    male  33.770         1       0  southeast   1725.55230  Medio   \n",
       "2    28    male  33.000         3       0  southeast   4449.46200  Medio   \n",
       "3    33    male  22.705         0       0  northwest  21984.47061   Bajo   \n",
       "4    32    male  28.880         0       0  northwest   3866.85520  Medio   \n",
       "5    31  female  25.740         0       0  southeast   3756.62160   Bajo   \n",
       "6    46  female  33.440         1       0  southeast   8240.58960  Medio   \n",
       "7    37  female  27.740         3       0  northwest   7281.50560   Bajo   \n",
       "8    37    male  29.830         2       0  northeast   6406.41070  Medio   \n",
       "9    60  female  25.840         0       0  northwest  28923.13692   Bajo   \n",
       "10   25    male  26.220         0       0  northeast   2721.32080   Bajo   \n",
       "11   62  female  26.290         0       1  southeast  27808.72510   Bajo   \n",
       "12   23    male  34.400         0       0  southwest   1826.84300  Medio   \n",
       "13   56  female  39.820         0       0  southeast  11090.71780  Medio   \n",
       "14   27    male  42.130         0       1  southeast  39611.75770   Alto   \n",
       "\n",
       "   categoria  imc_dummy  categoria_dummy  sex_dummy  region_dummy  \n",
       "0      Joven          0                0          1             0  \n",
       "1      Joven          1                0          0             1  \n",
       "2      Joven          1                0          0             1  \n",
       "3     Adulto          0                1          0             3  \n",
       "4     Adulto          1                1          0             3  \n",
       "5     Adulto          0                1          1             1  \n",
       "6     Adulto          1                1          1             1  \n",
       "7     Adulto          0                1          1             3  \n",
       "8     Adulto          1                1          0             4  \n",
       "9      Mayor          0                2          1             3  \n",
       "10     Joven          0                0          0             4  \n",
       "11     Mayor          0                2          1             1  \n",
       "12     Joven          1                0          0             0  \n",
       "13     Mayor          1                2          1             1  \n",
       "14     Joven          2                0          0             1  "
      ]
     },
     "execution_count": 48,
     "metadata": {},
     "output_type": "execute_result"
    }
   ],
   "source": [
    "#Se crean las varialbes dummys:\n",
    "a=[]\n",
    "b=[]\n",
    "c=[]\n",
    "d=[]\n",
    "data_reg=[]\n",
    "datos_a=df[\"bmi\"]\n",
    "for j in datos_a:\n",
    "    if (j<28):\n",
    "        j=0\n",
    "    elif(j>28 and j<41):\n",
    "        j=1\n",
    "    else:\n",
    "        j=2       \n",
    "    a.append(j)\n",
    "imc_dummy=pd.DataFrame(a)    \n",
    "df['imc_dummy'] = imc_dummy #agregar\n",
    "\n",
    "datos_b=df[\"age\"]\n",
    "for k in datos_b:\n",
    "    if (k<30):\n",
    "        k=0\n",
    "    elif(k>30 and k<55):\n",
    "        k=1\n",
    "    else:\n",
    "        k=2        \n",
    "    b.append(k)\n",
    "    \n",
    "categoria_dummy=pd.DataFrame(b)    \n",
    "df['categoria_dummy'] =categoria_dummy\n",
    "\n",
    "datos_c=df[\"sex\"]\n",
    "for j in datos_c:\n",
    "    if (j==\"male\"):\n",
    "        j=0\n",
    "    else:\n",
    "        j=1       \n",
    "    c.append(j)\n",
    "sex_dummy=pd.DataFrame(c)    \n",
    "df['sex_dummy'] = sex_dummy #agregar\n",
    "\n",
    "datos_d=df[\"region\"]\n",
    "for k in datos_d:\n",
    "    if (k==\"southwest\"):\n",
    "        k=0\n",
    "    elif(k==\"southeast\"):\n",
    "        k=1\n",
    "    elif(k==\"northwest\"):\n",
    "        k=3\n",
    "    else:\n",
    "        k=4        \n",
    "    d.append(k)\n",
    "    \n",
    "region_dummy=pd.DataFrame(d)    \n",
    "df['region_dummy'] =region_dummy\n",
    "\n",
    "data_reg=df\n",
    "data_reg.head(15)"
   ]
  },
  {
   "cell_type": "markdown",
   "metadata": {},
   "source": [
    "Luego se reliza el modelo de regresion lineal multiple:"
   ]
  },
  {
   "cell_type": "code",
   "execution_count": 19,
   "metadata": {},
   "outputs": [],
   "source": [
    "#importar librerias\n",
    "from sklearn import linear_model"
   ]
  },
  {
   "cell_type": "code",
   "execution_count": 44,
   "metadata": {},
   "outputs": [
    {
     "data": {
      "text/html": [
       "<div>\n",
       "<style scoped>\n",
       "    .dataframe tbody tr th:only-of-type {\n",
       "        vertical-align: middle;\n",
       "    }\n",
       "\n",
       "    .dataframe tbody tr th {\n",
       "        vertical-align: top;\n",
       "    }\n",
       "\n",
       "    .dataframe thead th {\n",
       "        text-align: right;\n",
       "    }\n",
       "</style>\n",
       "<table border=\"1\" class=\"dataframe\">\n",
       "  <thead>\n",
       "    <tr style=\"text-align: right;\">\n",
       "      <th></th>\n",
       "      <th>children</th>\n",
       "      <th>smoker</th>\n",
       "      <th>imc_dummy</th>\n",
       "      <th>categoria_dummy</th>\n",
       "      <th>sex_dummy</th>\n",
       "      <th>region_dummy</th>\n",
       "    </tr>\n",
       "  </thead>\n",
       "  <tbody>\n",
       "    <tr>\n",
       "      <th>0</th>\n",
       "      <td>0</td>\n",
       "      <td>1</td>\n",
       "      <td>0</td>\n",
       "      <td>0</td>\n",
       "      <td>1</td>\n",
       "      <td>0</td>\n",
       "    </tr>\n",
       "    <tr>\n",
       "      <th>1</th>\n",
       "      <td>1</td>\n",
       "      <td>0</td>\n",
       "      <td>1</td>\n",
       "      <td>0</td>\n",
       "      <td>0</td>\n",
       "      <td>1</td>\n",
       "    </tr>\n",
       "    <tr>\n",
       "      <th>2</th>\n",
       "      <td>3</td>\n",
       "      <td>0</td>\n",
       "      <td>1</td>\n",
       "      <td>0</td>\n",
       "      <td>0</td>\n",
       "      <td>1</td>\n",
       "    </tr>\n",
       "    <tr>\n",
       "      <th>3</th>\n",
       "      <td>0</td>\n",
       "      <td>0</td>\n",
       "      <td>0</td>\n",
       "      <td>1</td>\n",
       "      <td>0</td>\n",
       "      <td>3</td>\n",
       "    </tr>\n",
       "    <tr>\n",
       "      <th>4</th>\n",
       "      <td>0</td>\n",
       "      <td>0</td>\n",
       "      <td>1</td>\n",
       "      <td>1</td>\n",
       "      <td>0</td>\n",
       "      <td>3</td>\n",
       "    </tr>\n",
       "  </tbody>\n",
       "</table>\n",
       "</div>"
      ],
      "text/plain": [
       "   children  smoker  imc_dummy  categoria_dummy  sex_dummy  region_dummy\n",
       "0         0       1          0                0          1             0\n",
       "1         1       0          1                0          0             1\n",
       "2         3       0          1                0          0             1\n",
       "3         0       0          0                1          0             3\n",
       "4         0       0          1                1          0             3"
      ]
     },
     "execution_count": 44,
     "metadata": {},
     "output_type": "execute_result"
    }
   ],
   "source": [
    "#Defino la variables independiente y dependientes\n",
    "data_reg=df\n",
    "data_reg=data_reg.drop(['sex', 'region', 'imc', 'categoria', 'bmi', 'age'], axis=1, inplace=False)\n",
    "X_multiple=data_reg.drop(['charges'], axis=1, inplace=False)\n",
    "y_multiple=data_reg.charges\n",
    "#data_reg.head(5)\n",
    "X_multiple.head(5)\n",
    "#y_multiple.head(5)"
   ]
  },
  {
   "cell_type": "code",
   "execution_count": 36,
   "metadata": {},
   "outputs": [],
   "source": [
    "from sklearn.model_selection import train_test_split\n"
   ]
  },
  {
   "cell_type": "code",
   "execution_count": 40,
   "metadata": {},
   "outputs": [
    {
     "name": "stdout",
     "output_type": "stream",
     "text": [
      "DATOS DEL MODELO REGRESIÓN LINEAL MULTIPLE\n",
      "\n",
      "Valor de las pendientes o coeficientes \"a\":\n",
      "[  550.48010366 24130.54152976  3445.93140079  4369.58975804\n",
      "   161.48844985   308.73920512]\n",
      "\n",
      "Valor de la intersección o coeficiente \"b\":\n",
      "719.5846841422335\n",
      "\n",
      "Precisión del modelo:\n",
      "0.7318483563741294\n"
     ]
    }
   ],
   "source": [
    "#Separo los datos de \"train\" en entrenamiento y prueba para probar los algoritmos\n",
    "X_train, X_test, y_train, y_test=train_test_split(X_multiple, y_multiple, test_size=0.2)\n",
    "#Defino el algoritmo a utilizar\n",
    "lr_multiple = linear_model.LinearRegression()\n",
    "#Entreno el modelo\n",
    "lr_multiple.fit(X_train, y_train)\n",
    "#Realizo una predicción\n",
    "Y_pred_multiple = lr_multiple.predict(X_test)\n",
    "print('DATOS DEL MODELO REGRESIÓN LINEAL MULTIPLE')\n",
    "print()\n",
    "print('Valor de las pendientes:')\n",
    "print(lr_multiple.coef_)\n",
    "print()\n",
    "print('Valor de la intersección:')\n",
    "print(lr_multiple.intercept_)\n",
    "print()\n",
    "print('Precisión del modelo:') #devuelve el R cuadrado\n",
    "print(lr_multiple.score(X_train, y_train))"
   ]
  },
  {
   "cell_type": "markdown",
   "metadata": {},
   "source": [
    "Se puede ajustar un modelo de regresión lineal multiple para este caso. y quedaría de la siguiente manera:  \n",
    "  \n",
    "charges= 719.58 + 550.48children + 24130.5415smoker + 3445.93imc + 4369.58categoria + 161.488sex + 308.7392region  \n",
    "  \n",
    "Con estos coeficientes se puede ver cuales son las variables que influyen mas en el modelo, que serían si la persona es fumadora o no, la edad y el IMC, corroborando la infomacion anteriormente obtenida. A pesar de esto la precision del modelo no va a ser tan alta, sería de un 73.18%."
   ]
  }
 ],
 "metadata": {
  "kernelspec": {
   "display_name": "Python 3",
   "language": "python",
   "name": "python3"
  },
  "language_info": {
   "codemirror_mode": {
    "name": "ipython",
    "version": 3
   },
   "file_extension": ".py",
   "mimetype": "text/x-python",
   "name": "python",
   "nbconvert_exporter": "python",
   "pygments_lexer": "ipython3",
   "version": "3.6.5"
  }
 },
 "nbformat": 4,
 "nbformat_minor": 2
}
