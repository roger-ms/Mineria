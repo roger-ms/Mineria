{
 "cells": [
  {
   "cell_type": "markdown",
   "metadata": {},
   "source": [
    "# Polinomios predictores IPC"
   ]
  },
  {
   "cell_type": "code",
   "execution_count": 1,
   "metadata": {},
   "outputs": [],
   "source": [
    "import pandas as pd\n",
    "import statsmodels.api as sm\n",
    "import statsmodels.formula.api as smf "
   ]
  },
  {
   "cell_type": "code",
   "execution_count": 2,
   "metadata": {},
   "outputs": [
    {
     "data": {
      "text/html": [
       "<div>\n",
       "<style scoped>\n",
       "    .dataframe tbody tr th:only-of-type {\n",
       "        vertical-align: middle;\n",
       "    }\n",
       "\n",
       "    .dataframe tbody tr th {\n",
       "        vertical-align: top;\n",
       "    }\n",
       "\n",
       "    .dataframe thead th {\n",
       "        text-align: right;\n",
       "    }\n",
       "</style>\n",
       "<table border=\"1\" class=\"dataframe\">\n",
       "  <thead>\n",
       "    <tr style=\"text-align: right;\">\n",
       "      <th></th>\n",
       "      <th>Date</th>\n",
       "      <th>Open</th>\n",
       "      <th>High</th>\n",
       "      <th>Low</th>\n",
       "      <th>Close</th>\n",
       "      <th>Adj Close</th>\n",
       "      <th>Volume</th>\n",
       "    </tr>\n",
       "  </thead>\n",
       "  <tbody>\n",
       "    <tr>\n",
       "      <th>0</th>\n",
       "      <td>2019-07-15</td>\n",
       "      <td>41684.328125</td>\n",
       "      <td>41960.550781</td>\n",
       "      <td>41558.421875</td>\n",
       "      <td>41606.539063</td>\n",
       "      <td>41606.539063</td>\n",
       "      <td>135676500</td>\n",
       "    </tr>\n",
       "    <tr>\n",
       "      <th>1</th>\n",
       "      <td>2019-07-22</td>\n",
       "      <td>41722.210938</td>\n",
       "      <td>41768.539063</td>\n",
       "      <td>40625.558594</td>\n",
       "      <td>40673.781250</td>\n",
       "      <td>40673.781250</td>\n",
       "      <td>738570300</td>\n",
       "    </tr>\n",
       "    <tr>\n",
       "      <th>2</th>\n",
       "      <td>2019-07-29</td>\n",
       "      <td>40644.988281</td>\n",
       "      <td>41394.441406</td>\n",
       "      <td>39630.660156</td>\n",
       "      <td>39977.519531</td>\n",
       "      <td>39977.519531</td>\n",
       "      <td>801294400</td>\n",
       "    </tr>\n",
       "    <tr>\n",
       "      <th>3</th>\n",
       "      <td>2019-08-05</td>\n",
       "      <td>39807.019531</td>\n",
       "      <td>40699.851563</td>\n",
       "      <td>39279.519531</td>\n",
       "      <td>40421.281250</td>\n",
       "      <td>40421.281250</td>\n",
       "      <td>901363100</td>\n",
       "    </tr>\n",
       "    <tr>\n",
       "      <th>4</th>\n",
       "      <td>2019-08-12</td>\n",
       "      <td>40311.121094</td>\n",
       "      <td>40347.378906</td>\n",
       "      <td>38265.511719</td>\n",
       "      <td>39339.550781</td>\n",
       "      <td>39339.550781</td>\n",
       "      <td>1015563500</td>\n",
       "    </tr>\n",
       "    <tr>\n",
       "      <th>5</th>\n",
       "      <td>2019-08-19</td>\n",
       "      <td>39396.500000</td>\n",
       "      <td>40378.730469</td>\n",
       "      <td>39352.390625</td>\n",
       "      <td>39862.070313</td>\n",
       "      <td>39862.070313</td>\n",
       "      <td>1002759700</td>\n",
       "    </tr>\n",
       "    <tr>\n",
       "      <th>6</th>\n",
       "      <td>2019-08-26</td>\n",
       "      <td>39915.570313</td>\n",
       "      <td>42680.230469</td>\n",
       "      <td>39887.621094</td>\n",
       "      <td>42622.500000</td>\n",
       "      <td>42622.500000</td>\n",
       "      <td>1420600100</td>\n",
       "    </tr>\n",
       "    <tr>\n",
       "      <th>7</th>\n",
       "      <td>2019-09-02</td>\n",
       "      <td>42621.871094</td>\n",
       "      <td>43037.261719</td>\n",
       "      <td>41724.230469</td>\n",
       "      <td>42707.660156</td>\n",
       "      <td>42707.660156</td>\n",
       "      <td>880446300</td>\n",
       "    </tr>\n",
       "    <tr>\n",
       "      <th>8</th>\n",
       "      <td>2019-09-09</td>\n",
       "      <td>42808.230469</td>\n",
       "      <td>43231.519531</td>\n",
       "      <td>42402.648438</td>\n",
       "      <td>42841.460938</td>\n",
       "      <td>42841.460938</td>\n",
       "      <td>636831200</td>\n",
       "    </tr>\n",
       "    <tr>\n",
       "      <th>9</th>\n",
       "      <td>2019-09-16</td>\n",
       "      <td>42823.511719</td>\n",
       "      <td>43665.941406</td>\n",
       "      <td>42743.261719</td>\n",
       "      <td>43559.449219</td>\n",
       "      <td>43559.449219</td>\n",
       "      <td>1311989900</td>\n",
       "    </tr>\n",
       "  </tbody>\n",
       "</table>\n",
       "</div>"
      ],
      "text/plain": [
       "         Date          Open          High           Low         Close  \\\n",
       "0  2019-07-15  41684.328125  41960.550781  41558.421875  41606.539063   \n",
       "1  2019-07-22  41722.210938  41768.539063  40625.558594  40673.781250   \n",
       "2  2019-07-29  40644.988281  41394.441406  39630.660156  39977.519531   \n",
       "3  2019-08-05  39807.019531  40699.851563  39279.519531  40421.281250   \n",
       "4  2019-08-12  40311.121094  40347.378906  38265.511719  39339.550781   \n",
       "5  2019-08-19  39396.500000  40378.730469  39352.390625  39862.070313   \n",
       "6  2019-08-26  39915.570313  42680.230469  39887.621094  42622.500000   \n",
       "7  2019-09-02  42621.871094  43037.261719  41724.230469  42707.660156   \n",
       "8  2019-09-09  42808.230469  43231.519531  42402.648438  42841.460938   \n",
       "9  2019-09-16  42823.511719  43665.941406  42743.261719  43559.449219   \n",
       "\n",
       "      Adj Close      Volume  \n",
       "0  41606.539063   135676500  \n",
       "1  40673.781250   738570300  \n",
       "2  39977.519531   801294400  \n",
       "3  40421.281250   901363100  \n",
       "4  39339.550781  1015563500  \n",
       "5  39862.070313  1002759700  \n",
       "6  42622.500000  1420600100  \n",
       "7  42707.660156   880446300  \n",
       "8  42841.460938   636831200  \n",
       "9  43559.449219  1311989900  "
      ]
     },
     "execution_count": 2,
     "metadata": {},
     "output_type": "execute_result"
    }
   ],
   "source": [
    "ipc = pd.read_csv(\"ipc_adjclose.csv\",encoding='utf8')\n",
    "ipc.head(10)"
   ]
  },
  {
   "cell_type": "markdown",
   "metadata": {},
   "source": [
    "Comenzamos retirando las columnas que no utilizaremos para este ejercicio ya que solo tomaremos la columna del precio de cierre ajustado y enumeramos las semanas"
   ]
  },
  {
   "cell_type": "code",
   "execution_count": 3,
   "metadata": {},
   "outputs": [
    {
     "data": {
      "text/html": [
       "<div>\n",
       "<style scoped>\n",
       "    .dataframe tbody tr th:only-of-type {\n",
       "        vertical-align: middle;\n",
       "    }\n",
       "\n",
       "    .dataframe tbody tr th {\n",
       "        vertical-align: top;\n",
       "    }\n",
       "\n",
       "    .dataframe thead th {\n",
       "        text-align: right;\n",
       "    }\n",
       "</style>\n",
       "<table border=\"1\" class=\"dataframe\">\n",
       "  <thead>\n",
       "    <tr style=\"text-align: right;\">\n",
       "      <th></th>\n",
       "      <th>Adj Close</th>\n",
       "      <th>week</th>\n",
       "    </tr>\n",
       "  </thead>\n",
       "  <tbody>\n",
       "    <tr>\n",
       "      <th>0</th>\n",
       "      <td>41606.539063</td>\n",
       "      <td>1.0</td>\n",
       "    </tr>\n",
       "    <tr>\n",
       "      <th>1</th>\n",
       "      <td>40673.781250</td>\n",
       "      <td>2.0</td>\n",
       "    </tr>\n",
       "    <tr>\n",
       "      <th>2</th>\n",
       "      <td>39977.519531</td>\n",
       "      <td>3.0</td>\n",
       "    </tr>\n",
       "    <tr>\n",
       "      <th>3</th>\n",
       "      <td>40421.281250</td>\n",
       "      <td>4.0</td>\n",
       "    </tr>\n",
       "    <tr>\n",
       "      <th>4</th>\n",
       "      <td>39339.550781</td>\n",
       "      <td>5.0</td>\n",
       "    </tr>\n",
       "  </tbody>\n",
       "</table>\n",
       "</div>"
      ],
      "text/plain": [
       "      Adj Close  week\n",
       "0  41606.539063   1.0\n",
       "1  40673.781250   2.0\n",
       "2  39977.519531   3.0\n",
       "3  40421.281250   4.0\n",
       "4  39339.550781   5.0"
      ]
     },
     "execution_count": 3,
     "metadata": {},
     "output_type": "execute_result"
    }
   ],
   "source": [
    "n=ipc[\"Date\"].count()\n",
    "s=list(range (1,n))\n",
    "week=pd.DataFrame(s)\n",
    "ipc['week']=week\n",
    "ipc=ipc.drop([\"Date\",\"Open\",\"High\",\"Low\",\"Close\",\"Volume\"], axis=1, inplace=False)\n",
    "ipc.head()"
   ]
  },
  {
   "cell_type": "code",
   "execution_count": 5,
   "metadata": {},
   "outputs": [
    {
     "data": {
      "text/html": [
       "<div>\n",
       "<style scoped>\n",
       "    .dataframe tbody tr th:only-of-type {\n",
       "        vertical-align: middle;\n",
       "    }\n",
       "\n",
       "    .dataframe tbody tr th {\n",
       "        vertical-align: top;\n",
       "    }\n",
       "\n",
       "    .dataframe thead th {\n",
       "        text-align: right;\n",
       "    }\n",
       "</style>\n",
       "<table border=\"1\" class=\"dataframe\">\n",
       "  <thead>\n",
       "    <tr style=\"text-align: right;\">\n",
       "      <th></th>\n",
       "      <th>week</th>\n",
       "      <th>x2</th>\n",
       "      <th>x3</th>\n",
       "      <th>close</th>\n",
       "    </tr>\n",
       "  </thead>\n",
       "  <tbody>\n",
       "    <tr>\n",
       "      <th>0</th>\n",
       "      <td>1.0</td>\n",
       "      <td>1.0</td>\n",
       "      <td>1.0</td>\n",
       "      <td>41606.539063</td>\n",
       "    </tr>\n",
       "    <tr>\n",
       "      <th>1</th>\n",
       "      <td>2.0</td>\n",
       "      <td>4.0</td>\n",
       "      <td>8.0</td>\n",
       "      <td>40673.781250</td>\n",
       "    </tr>\n",
       "    <tr>\n",
       "      <th>2</th>\n",
       "      <td>3.0</td>\n",
       "      <td>9.0</td>\n",
       "      <td>27.0</td>\n",
       "      <td>39977.519531</td>\n",
       "    </tr>\n",
       "    <tr>\n",
       "      <th>3</th>\n",
       "      <td>4.0</td>\n",
       "      <td>16.0</td>\n",
       "      <td>64.0</td>\n",
       "      <td>40421.281250</td>\n",
       "    </tr>\n",
       "    <tr>\n",
       "      <th>4</th>\n",
       "      <td>5.0</td>\n",
       "      <td>25.0</td>\n",
       "      <td>125.0</td>\n",
       "      <td>39339.550781</td>\n",
       "    </tr>\n",
       "  </tbody>\n",
       "</table>\n",
       "</div>"
      ],
      "text/plain": [
       "   week    x2     x3         close\n",
       "0   1.0   1.0    1.0  41606.539063\n",
       "1   2.0   4.0    8.0  40673.781250\n",
       "2   3.0   9.0   27.0  39977.519531\n",
       "3   4.0  16.0   64.0  40421.281250\n",
       "4   5.0  25.0  125.0  39339.550781"
      ]
     },
     "execution_count": 5,
     "metadata": {},
     "output_type": "execute_result"
    }
   ],
   "source": [
    "close=[]\n",
    "x2=[]\n",
    "x3=[]\n",
    "close=ipc[\"Adj Close\"]\n",
    "datosx=ipc[\"week\"]\n",
    "for i in datosx:\n",
    "    s= i*i\n",
    "    f= s*i\n",
    "    x2.append(s)\n",
    "    x3.append(f)\n",
    "ipc['x2']=x2\n",
    "ipc['x3']=x3\n",
    "ipc['close']=close\n",
    "ipc=ipc.drop([\"Adj Close\"], axis=1, inplace=False)\n",
    "ipc.head()\n"
   ]
  },
  {
   "cell_type": "code",
   "execution_count": 6,
   "metadata": {},
   "outputs": [],
   "source": [
    "mod = sm.OLS.from_formula('close~week+x2+x3', data=ipc).fit()"
   ]
  },
  {
   "cell_type": "code",
   "execution_count": 7,
   "metadata": {},
   "outputs": [
    {
     "data": {
      "text/plain": [
       "Intercept    36942.474332\n",
       "week          1090.361346\n",
       "x2             -46.293719\n",
       "x3               0.486636\n",
       "dtype: float64"
      ]
     },
     "execution_count": 7,
     "metadata": {},
     "output_type": "execute_result"
    }
   ],
   "source": [
    "mod.params"
   ]
  },
  {
   "cell_type": "markdown",
   "metadata": {},
   "source": [
    "#### interpolacion spline cubico"
   ]
  },
  {
   "cell_type": "code",
   "execution_count": 11,
   "metadata": {},
   "outputs": [
    {
     "data": {
      "image/png": "[encoded data removed]",
      "text/plain": [
       "<Figure size 432x288 with 1 Axes>"
      ]
     },
     "metadata": {},
     "output_type": "display_data"
    }
   ],
   "source": [
    "ipc2=ipc.drop([\"x2\",\"x3\"], axis=1, inplace=False)\n",
    "datos_y=[ipc2[\"close\"]]\n",
    "datos_x=[ipc2['week']]\n",
    "import matplotlib.pyplot as plt\n",
    "plt.scatter(x=datos_x , y=datos_y, marker='p', c='black', s=25)\n",
    "plt.show()"
   ]
  },
  {
   "cell_type": "code",
   "execution_count": null,
   "metadata": {},
   "outputs": [],
   "source": []
  }
 ],
 "metadata": {
  "kernelspec": {
   "display_name": "Python 3",
   "language": "python",
   "name": "python3"
  },
  "language_info": {
   "codemirror_mode": {
    "name": "ipython",
    "version": 3
   },
   "file_extension": ".py",
   "mimetype": "text/x-python",
   "name": "python",
   "nbconvert_exporter": "python",
   "pygments_lexer": "ipython3",
   "version": "3.6.5"
  }
 },
 "nbformat": 4,
 "nbformat_minor": 2
}
